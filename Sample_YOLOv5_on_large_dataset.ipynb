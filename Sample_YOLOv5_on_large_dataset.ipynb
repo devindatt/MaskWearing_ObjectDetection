{
  "nbformat": 4,
  "nbformat_minor": 0,
  "metadata": {
    "colab": {
      "name": "Sample_YOLOv5_on_large_dataset.ipynb",
      "private_outputs": true,
      "provenance": [],
      "toc_visible": true,
      "authorship_tag": "ABX9TyMvaxtFZJ/nbCj9DW5JQgxI",
      "include_colab_link": true
    },
    "kernelspec": {
      "name": "python3",
      "display_name": "Python 3"
    },
    "accelerator": "GPU"
  },
  "cells": [
    {
      "cell_type": "markdown",
      "metadata": {
        "id": "view-in-github",
        "colab_type": "text"
      },
      "source": [
        "<a href=\"https://colab.research.google.com/github/devindatt/MaskWearing_ObjectDetection/blob/main/Sample_YOLOv5_on_large_dataset.ipynb\" target=\"_parent\"><img src=\"https://colab.research.google.com/assets/colab-badge.svg\" alt=\"Open In Colab\"/></a>"
      ]
    },
    {
      "cell_type": "code",
      "metadata": {
        "id": "_rwUvlnylzUr"
      },
      "source": [
        ""
      ],
      "execution_count": null,
      "outputs": []
    },
    {
      "cell_type": "markdown",
      "metadata": {
        "id": "WpTiNf1ol0QT"
      },
      "source": [
        "# Mask Wearing Object Detection"
      ]
    },
    {
      "cell_type": "code",
      "metadata": {
        "id": "-tCWimzil9Du"
      },
      "source": [
        "import torch # Keep in mind that YOLOv5 runs on top of PyTorch, so we need to import it to the notebook\n",
        "\n",
        "from IPython.display import Image #this is to render predictions\n",
        "\n",
        "#!git clone https://github.com/ultralytics/yolov5 # Use this if you want to keep the official Ultralytics scripts.\n",
        "\n",
        "!git clone https://github.com/zldrobit/yolov5.git\n",
        "%cd yolov5\n",
        "!git checkout tf-android"
      ],
      "execution_count": null,
      "outputs": []
    },
    {
      "cell_type": "code",
      "metadata": {
        "id": "EcSH6V3fmJIi"
      },
      "source": [
        "!pip install -r requirements.txt\n",
        "!pip install tensorflow==2.3.1 #Keep this version of TF as YOLOv5 works well with it.\n",
        "print('All set. Using PyTorch version %s with %s' % (torch.__version__, torch.cuda.get_device_properties(0) if torch.cuda.is_available() else 'CPU'))"
      ],
      "execution_count": null,
      "outputs": []
    },
    {
      "cell_type": "code",
      "metadata": {
        "id": "JLTcmw1WmQ5R"
      },
      "source": [
        "%cd /content\n",
        "!git clone https://github.com/sergiovirahonda/FaceMaskDataset"
      ],
      "execution_count": null,
      "outputs": []
    },
    {
      "cell_type": "code",
      "metadata": {
        "id": "J5wZHEwsnan6"
      },
      "source": [
        "!pwd"
      ],
      "execution_count": null,
      "outputs": []
    },
    {
      "cell_type": "code",
      "metadata": {
        "id": "k3CmfCw8ooD8"
      },
      "source": [
        "%cd /content/yolov5/\n",
        "!python train.py --img 416 --batch 16 --epochs 30 --data dataset.yaml --weights yolov5s.pt --cache"
      ],
      "execution_count": null,
      "outputs": []
    },
    {
      "cell_type": "code",
      "metadata": {
        "id": "Kd1ZvvU9rJ2o"
      },
      "source": [
        ""
      ],
      "execution_count": null,
      "outputs": []
    }
  ]
}